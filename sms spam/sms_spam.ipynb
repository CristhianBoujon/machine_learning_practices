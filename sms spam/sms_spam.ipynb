{
 "cells": [
  {
   "cell_type": "code",
   "execution_count": 1,
   "metadata": {
    "_cell_guid": "eb6328c9-b8ca-da46-7421-5dbb0ac28ad0"
   },
   "outputs": [],
   "source": [
    "%matplotlib inline\n",
    "\n",
    "import pandas as pd\n",
    "from sklearn.feature_extraction.text import CountVectorizer\n",
    "from sklearn.linear_model import LogisticRegression\n",
    "from sklearn.model_selection import train_test_split\n",
    "from sklearn.model_selection import StratifiedKFold\n",
    "import numpy as np\n",
    "from sklearn.metrics import confusion_matrix\n",
    "from matplotlib import pyplot as plt\n",
    "\n",
    "\"\"\"\n",
    "    df: dataframe\n",
    "    vec: Object that convert a collection of text documents to a matrix of token counts\n",
    "    ascending: order creteria\n",
    "    qty: first n words to return\n",
    "    \n",
    "    Return list with all words and their global frequency (all samples)\n",
    "\"\"\"\n",
    "def get_resume(df, vec, ascending = False, n = None):\n",
    "    X = vec.fit_transform(df[\"text\"].values)\n",
    "    feature_names = vec.get_feature_names()\n",
    "\n",
    "    resume = pd.DataFrame(columns = feature_names, data = X.toarray()).sum()\n",
    "\n",
    "    if(n):\n",
    "        return resume.sort_values(ascending = ascending)[:n]\n",
    "\n",
    "    return resume"
   ]
  },
  {
   "cell_type": "code",
   "execution_count": 2,
   "metadata": {
    "_cell_guid": "bdc61ef1-2b82-9454-a47a-ab70b7e5487b"
   },
   "outputs": [],
   "source": [
    "df = pd.read_csv(\"spam.csv\", encoding='latin-1')\n",
    "\n",
    "df.columns = [\"sms_type\", \"text\", \"2\", \"3\", \"4\"]\n",
    "\n",
    "df.drop(\"2\", axis=1, inplace=True)\n",
    "df.drop(\"3\", axis=1, inplace=True)\n",
    "df.drop(\"4\", axis=1, inplace=True)\n",
    "\n",
    "df[\"text\"] = df[\"text\"].str.lower() # Convert to lowercase"
   ]
  },
  {
   "cell_type": "code",
   "execution_count": 3,
   "metadata": {
    "_cell_guid": "187f2301-a336-bfba-bf0b-d46c4140bd49"
   },
   "outputs": [
    {
     "data": {
      "text/html": [
       "<div>\n",
       "<table border=\"1\" class=\"dataframe\">\n",
       "  <thead>\n",
       "    <tr style=\"text-align: right;\">\n",
       "      <th></th>\n",
       "      <th>sms_type</th>\n",
       "      <th>text</th>\n",
       "    </tr>\n",
       "  </thead>\n",
       "  <tbody>\n",
       "    <tr>\n",
       "      <th>count</th>\n",
       "      <td>5572</td>\n",
       "      <td>5572</td>\n",
       "    </tr>\n",
       "    <tr>\n",
       "      <th>unique</th>\n",
       "      <td>2</td>\n",
       "      <td>5168</td>\n",
       "    </tr>\n",
       "    <tr>\n",
       "      <th>top</th>\n",
       "      <td>ham</td>\n",
       "      <td>sorry, i'll call later</td>\n",
       "    </tr>\n",
       "    <tr>\n",
       "      <th>freq</th>\n",
       "      <td>4825</td>\n",
       "      <td>30</td>\n",
       "    </tr>\n",
       "  </tbody>\n",
       "</table>\n",
       "</div>"
      ],
      "text/plain": [
       "       sms_type                    text\n",
       "count      5572                    5572\n",
       "unique        2                    5168\n",
       "top         ham  sorry, i'll call later\n",
       "freq       4825                      30"
      ]
     },
     "execution_count": 3,
     "metadata": {},
     "output_type": "execute_result"
    }
   ],
   "source": [
    "df.describe()"
   ]
  },
  {
   "cell_type": "code",
   "execution_count": 4,
   "metadata": {
    "_cell_guid": "2f1ae4dd-d160-d261-c283-ae8dfef0c950"
   },
   "outputs": [
    {
     "data": {
      "text/plain": [
       "ham     4825\n",
       "spam     747\n",
       "Name: sms_type, dtype: int64"
      ]
     },
     "execution_count": 4,
     "metadata": {},
     "output_type": "execute_result"
    }
   ],
   "source": [
    "df[\"sms_type\"].value_counts()"
   ]
  },
  {
   "cell_type": "code",
   "execution_count": 5,
   "metadata": {
    "_cell_guid": "2a049410-d1f3-4e60-b734-6aaed1c35265"
   },
   "outputs": [
    {
     "data": {
      "text/plain": [
       "free       224\n",
       "txt        163\n",
       "ur         144\n",
       "mobile     127\n",
       "text       125\n",
       "stop       121\n",
       "claim      113\n",
       "reply      104\n",
       "www         98\n",
       "prize       93\n",
       "just        78\n",
       "cash        76\n",
       "won         76\n",
       "uk          74\n",
       "150p        71\n",
       "send        70\n",
       "new         69\n",
       "nokia       67\n",
       "win         64\n",
       "urgent      63\n",
       "tone        60\n",
       "week        60\n",
       "50          57\n",
       "contact     56\n",
       "service     56\n",
       "dtype: int64"
      ]
     },
     "execution_count": 5,
     "metadata": {},
     "output_type": "execute_result"
    }
   ],
   "source": [
    "vec = CountVectorizer(decode_error = 'ignore', stop_words = \"english\")\n",
    "spam_resume = get_resume(df[df[\"sms_type\"] == \"spam\"], vec, n = 25)\n",
    "spam_resume"
   ]
  },
  {
   "cell_type": "code",
   "execution_count": 6,
   "metadata": {
    "_cell_guid": "b8eaf52c-5fd0-400b-8a00-3183fbf49401"
   },
   "outputs": [
    {
     "data": {
      "text/plain": [
       "<matplotlib.axes._subplots.AxesSubplot at 0x7f478a6bba90>"
      ]
     },
     "execution_count": 6,
     "metadata": {},
     "output_type": "execute_result"
    },
    {
     "data": {
      "image/png": "[encoded data removed]",
      "text/plain": [
       "<matplotlib.figure.Figure at 0x7f478a6b8b70>"
      ]
     },
     "metadata": {},
     "output_type": "display_data"
    }
   ],
   "source": [
    "spam_resume.plot(kind = 'bar', figsize = (8, 4), fontsize = 12)"
   ]
  },
  {
   "cell_type": "markdown",
   "metadata": {
    "_cell_guid": "6a0f5652-843a-7a05-bcd8-f50955a9eb4f"
   },
   "source": [
    "When we work with NLP, it's importat understand the context. Laws are too large and wording is correct and there is no spelling errors. Chats, tweets, text messages, emails (maybe) are very informal nature.\n",
    "Many times it requires that we inspect texts manually so I did it and I note that spams have phone numbers and urls (check that we have 98 \"www\" in our sms spams)."
   ]
  },
  {
   "cell_type": "code",
   "execution_count": 7,
   "metadata": {
    "_cell_guid": "29d1e5fa-c5d8-934f-9017-9eab5d6b7947"
   },
   "outputs": [
    {
     "data": {
      "text/plain": [
       "spam    623\n",
       "ham      13\n",
       "Name: sms_type, dtype: int64"
      ]
     },
     "execution_count": 7,
     "metadata": {},
     "output_type": "execute_result"
    }
   ],
   "source": [
    "df[\"sms_type\"][df[\"text\"].str.contains(\"\\d{4,}\")].value_counts()"
   ]
  },
  {
   "cell_type": "markdown",
   "metadata": {
    "_cell_guid": "366e9fd7-1e61-1b4f-02d3-3647667555b6"
   },
   "source": [
    "Here I use a regular expression to identify urls. You can download from https://github.com/rcompton/ryancompton.net/blob/master/assets/praw_drugs/urlmarker.py (Thanks to John Gruber and Ryan Compton)"
   ]
  },
  {
   "cell_type": "code",
   "execution_count": 8,
   "metadata": {
    "_cell_guid": "439be559-e389-4c62-d925-4deaab17ee28"
   },
   "outputs": [
    {
     "name": "stderr",
     "output_type": "stream",
     "text": [
      "/opt/conda/lib/python3.6/site-packages/ipykernel/__main__.py:3: UserWarning: This pattern has match groups. To actually get the groups, use str.extract.\n",
      "  app.launch_new_instance()\n"
     ]
    },
    {
     "data": {
      "text/plain": [
       "spam    134\n",
       "ham      36\n",
       "Name: sms_type, dtype: int64"
      ]
     },
     "execution_count": 8,
     "metadata": {},
     "output_type": "execute_result"
    }
   ],
   "source": [
    "WEB_URL_REGEX = r\"\"\"(?i)\\b((?:https?:(?:/{1,3}|[a-z0-9%])|[a-z0-9.\\-]+[.](?:com|net|org|edu|gov|mil|aero|asia|biz|cat|coop|info|int|jobs|mobi|museum|name|post|pro|tel|travel|xxx|ac|ad|ae|af|ag|ai|al|am|an|ao|aq|ar|as|at|au|aw|ax|az|ba|bb|bd|be|bf|bg|bh|bi|bj|bm|bn|bo|br|bs|bt|bv|bw|by|bz|ca|cc|cd|cf|cg|ch|ci|ck|cl|cm|cn|co|cr|cs|cu|cv|cx|cy|cz|dd|de|dj|dk|dm|do|dz|ec|ee|eg|eh|er|es|et|eu|fi|fj|fk|fm|fo|fr|ga|gb|gd|ge|gf|gg|gh|gi|gl|gm|gn|gp|gq|gr|gs|gt|gu|gw|gy|hk|hm|hn|hr|ht|hu|id|ie|il|im|in|io|iq|ir|is|it|je|jm|jo|jp|ke|kg|kh|ki|km|kn|kp|kr|kw|ky|kz|la|lb|lc|li|lk|lr|ls|lt|lu|lv|ly|ma|mc|md|me|mg|mh|mk|ml|mm|mn|mo|mp|mq|mr|ms|mt|mu|mv|mw|mx|my|mz|na|nc|ne|nf|ng|ni|nl|no|np|nr|nu|nz|om|pa|pe|pf|pg|ph|pk|pl|pm|pn|pr|ps|pt|pw|py|qa|re|ro|rs|ru|rw|sa|sb|sc|sd|se|sg|sh|si|sj|Ja|sk|sl|sm|sn|so|sr|ss|st|su|sv|sx|sy|sz|tc|td|tf|tg|th|tj|tk|tl|tm|tn|to|tp|tr|tt|tv|tw|tz|ua|ug|uk|us|uy|uz|va|vc|ve|vg|vi|vn|vu|wf|ws|ye|yt|yu|za|zm|zw)/)(?:[^\\s()<>{}\\[\\]]+|\\([^\\s()]*?\\([^\\s()]+\\)[^\\s()]*?\\)|\\([^\\s]+?\\))+(?:\\([^\\s()]*?\\([^\\s()]+\\)[^\\s()]*?\\)|\\([^\\s]+?\\)|[^\\s`!()\\[\\]{};:'\".,<>?«»“”‘’])|(?:(?<!@)[a-z0-9]+(?:[.\\-][a-z0-9]+)*[.](?:com|net|org|edu|gov|mil|aero|asia|biz|cat|coop|info|int|jobs|mobi|museum|name|post|pro|tel|travel|xxx|ac|ad|ae|af|ag|ai|al|am|an|ao|aq|ar|as|at|au|aw|ax|az|ba|bb|bd|be|bf|bg|bh|bi|bj|bm|bn|bo|br|bs|bt|bv|bw|by|bz|ca|cc|cd|cf|cg|ch|ci|ck|cl|cm|cn|co|cr|cs|cu|cv|cx|cy|cz|dd|de|dj|dk|dm|do|dz|ec|ee|eg|eh|er|es|et|eu|fi|fj|fk|fm|fo|fr|ga|gb|gd|ge|gf|gg|gh|gi|gl|gm|gn|gp|gq|gr|gs|gt|gu|gw|gy|hk|hm|hn|hr|ht|hu|id|ie|il|im|in|io|iq|ir|is|it|je|jm|jo|jp|ke|kg|kh|ki|km|kn|kp|kr|kw|ky|kz|la|lb|lc|li|lk|lr|ls|lt|lu|lv|ly|ma|mc|md|me|mg|mh|mk|ml|mm|mn|mo|mp|mq|mr|ms|mt|mu|mv|mw|mx|my|mz|na|nc|ne|nf|ng|ni|nl|no|np|nr|nu|nz|om|pa|pe|pf|pg|ph|pk|pl|pm|pn|pr|ps|pt|pw|py|qa|re|ro|rs|ru|rw|sa|sb|sc|sd|se|sg|sh|si|sj|Ja|sk|sl|sm|sn|so|sr|ss|st|su|sv|sx|sy|sz|tc|td|tf|tg|th|tj|tk|tl|tm|tn|to|tp|tr|tt|tv|tw|tz|ua|ug|uk|us|uy|uz|va|vc|ve|vg|vi|vn|vu|wf|ws|ye|yt|yu|za|zm|zw)\\b/?(?!@)))\"\"\"\n",
    "\n",
    "df[\"sms_type\"][df[\"text\"].str.contains(WEB_URL_REGEX)].value_counts()"
   ]
  },
  {
   "cell_type": "markdown",
   "metadata": {
    "_cell_guid": "562b5133-7f80-47db-a175-8668c84159fb"
   },
   "source": [
    "As you can see, that expressions seems to be keeps relation with spams texts, so we will replace them to a fix word\n"
   ]
  },
  {
   "cell_type": "code",
   "execution_count": 9,
   "metadata": {
    "_cell_guid": "23cc3f7d-11a4-b3b8-98cd-55b0fa870a4b"
   },
   "outputs": [],
   "source": [
    "df[\"text\"] = df[\"text\"].str.replace(WEB_URL_REGEX,\" someurl \")\n",
    "df[\"text\"] = df[\"text\"].str.replace(\"\\d{4,}\",\" suspectnumber \")"
   ]
  },
  {
   "cell_type": "code",
   "execution_count": 10,
   "metadata": {
    "_cell_guid": "1c8f3014-d82b-0881-98c4-6eaefa78e40b"
   },
   "outputs": [
    {
     "data": {
      "text/plain": [
       "suspectnumber    1040\n",
       "free              224\n",
       "txt               162\n",
       "ur                144\n",
       "someurl           141\n",
       "mobile            127\n",
       "text              125\n",
       "stop              121\n",
       "claim             113\n",
       "reply             104\n",
       "prize              92\n",
       "just               78\n",
       "cash               76\n",
       "won                76\n",
       "150p               71\n",
       "nokia              71\n",
       "send               70\n",
       "new                69\n",
       "urgent             63\n",
       "win                62\n",
       "week               60\n",
       "tone               59\n",
       "50                 57\n",
       "contact            56\n",
       "service            56\n",
       "dtype: int64"
      ]
     },
     "execution_count": 10,
     "metadata": {},
     "output_type": "execute_result"
    }
   ],
   "source": [
    "vec = CountVectorizer(decode_error = 'ignore', stop_words = \"english\")\n",
    "spam_resume = get_resume(df[df[\"sms_type\"] == \"spam\"], vec, n = 25)\n",
    "spam_resume"
   ]
  },
  {
   "cell_type": "code",
   "execution_count": 11,
   "metadata": {
    "_cell_guid": "684b4bdf-c0e5-7d55-6bd7-04088f8814b5"
   },
   "outputs": [
    {
     "data": {
      "text/plain": [
       "<matplotlib.axes._subplots.AxesSubplot at 0x7f478a2cd320>"
      ]
     },
     "execution_count": 11,
     "metadata": {},
     "output_type": "execute_result"
    },
    {
     "data": {
      "image/png": "[encoded data removed]",
      "text/plain": [
       "<matplotlib.figure.Figure at 0x7f478a395780>"
      ]
     },
     "metadata": {},
     "output_type": "display_data"
    }
   ],
   "source": [
    "spam_resume.plot(kind = 'bar', figsize = (8, 4), fontsize = 12)"
   ]
  },
  {
   "cell_type": "code",
   "execution_count": 12,
   "metadata": {
    "_cell_guid": "ee3276df-4a09-c7fa-90cc-05c9bbed5bd5"
   },
   "outputs": [
    {
     "name": "stdout",
     "output_type": "stream",
     "text": [
      "[[956   9]\n",
      " [ 16 134]]\n",
      "------------------------------\n",
      "[[963   2]\n",
      " [ 19 131]]\n",
      "------------------------------\n",
      "[[961   4]\n",
      " [ 19 130]]\n",
      "------------------------------\n",
      "[[963   2]\n",
      " [ 14 135]]\n",
      "------------------------------\n",
      "[[960   5]\n",
      " [ 12 137]]\n",
      "------------------------------\n",
      "0.982546697907 0.98169501896\n"
     ]
    }
   ],
   "source": [
    "X = df[\"text\"].values\n",
    "y = df[\"sms_type\"].values\n",
    "    \n",
    "folds = StratifiedKFold(n_splits = 5, shuffle = True)\n",
    "test_scores, train_scores = np.array([]), np.array([])\n",
    "\n",
    "vocabulary = list(set(list(spam_resume.keys())))\n",
    "\n",
    "relevant_vec = CountVectorizer(decode_error = 'ignore',\n",
    "                                stop_words = \"english\",  \n",
    "                                vocabulary = vocabulary)\n",
    "\n",
    "for train_idx, test_idx in folds.split(X, y):\n",
    "\n",
    "    X_train, y_train = relevant_vec.fit_transform(X[train_idx]), y[train_idx]\n",
    "    X_test, y_test = relevant_vec.transform(X[test_idx]), y[test_idx]\n",
    "\n",
    "    log_model = LogisticRegression()\n",
    "    log_model.fit(X_train, y_train)\n",
    "    y_pred_test = log_model.predict(X_test)\n",
    "\n",
    "    c = confusion_matrix(y_test, y_pred_test)\n",
    "    print(c)\n",
    "    print(\"------------------------------\")\n",
    "\n",
    "    train_scores = np.append(train_scores, log_model.score(X_train, y_train))\n",
    "    test_scores = np.append(test_scores, log_model.score(X_test, y_test))\n",
    "\n",
    "print(train_scores.mean(), test_scores.mean())"
   ]
  },
  {
   "cell_type": "markdown",
   "metadata": {
    "_cell_guid": "f52e1f8b-956e-dd17-954f-dcd18ebc163d"
   },
   "source": [
    "<ul>\n",
    "    <li> c[0][0] corresponds to True Nagatives -> ham text messages classified as ham (Correctly classified). </li>\n",
    "    <li> c[0][1] corresponds to False Negatives -> ham text messages classified as spam (wrong classified). </li>\n",
    "    <li> c[1][0] corresponds to False Positives -> spam text messages classified as ham (wrong classified). </li>\n",
    "    <li>c[1][1] corresponds to True Positives -> spam text messages classified as spam (Correctly classified). </li>\n",
    "</ul>\n",
    "\n",
    "So... as you can see we have a good performance related with ham text messages classification, regarding spam messages we have approximately 10% of misclassification.\n",
    "\n",
    "If you have any suggestion about how to improve the performace, feel free to comment :)\n"
   ]
  },
  {
   "cell_type": "code",
   "execution_count": 13,
   "metadata": {
    "_cell_guid": "48afc3f1-cedc-4365-3cfd-99bef2e4dec4"
   },
   "outputs": [],
   "source": []
  }
 ],
 "metadata": {
  "_change_revision": 3,
  "_is_fork": false,
  "kernelspec": {
   "display_name": "Python 3",
   "language": "python",
   "name": "python3"
  },
  "language_info": {
   "codemirror_mode": {
    "name": "ipython",
    "version": 3
   },
   "file_extension": ".py",
   "mimetype": "text/x-python",
   "name": "python",
   "nbconvert_exporter": "python",
   "pygments_lexer": "ipython3",
   "version": "3.6.0"
  }
 },
 "nbformat": 4,
 "nbformat_minor": 0
}
